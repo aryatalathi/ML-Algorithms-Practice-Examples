{
 "cells": [
  {
   "cell_type": "code",
   "execution_count": 1,
   "metadata": {
    "_cell_guid": "b1076dfc-b9ad-4769-8c92-a6c4dae69d19",
    "_uuid": "8f2839f25d086af736a60e9eeb907d3b93b6e0e5",
    "execution": {
     "iopub.execute_input": "2020-09-29T18:34:55.689614Z",
     "iopub.status.busy": "2020-09-29T18:34:55.688919Z",
     "iopub.status.idle": "2020-09-29T18:34:55.696552Z",
     "shell.execute_reply": "2020-09-29T18:34:55.696991Z"
    },
    "papermill": {
     "duration": 0.024776,
     "end_time": "2020-09-29T18:34:55.697182",
     "exception": false,
     "start_time": "2020-09-29T18:34:55.672406",
     "status": "completed"
    },
    "tags": []
   },
   "outputs": [
    {
     "name": "stdout",
     "output_type": "stream",
     "text": [
      "/kaggle/input/social-network-ads/Social_Network_Ads.csv\n"
     ]
    }
   ],
   "source": [
    "# This Python 3 environment comes with many helpful analytics libraries installed\n",
    "# It is defined by the kaggle/python Docker image: https://github.com/kaggle/docker-python\n",
    "# For example, here's several helpful packages to load\n",
    "\n",
    "import numpy as np # linear algebra\n",
    "import pandas as pd # data processing, CSV file I/O (e.g. pd.read_csv)\n",
    "\n",
    "# Input data files are available in the read-only \"../input/\" directory\n",
    "# For example, running this (by clicking run or pressing Shift+Enter) will list all files under the input directory\n",
    "\n",
    "import os\n",
    "for dirname, _, filenames in os.walk('/kaggle/input'):\n",
    "    for filename in filenames:\n",
    "        print(os.path.join(dirname, filename))\n",
    "\n",
    "# You can write up to 5GB to the current directory (/kaggle/working/) that gets preserved as output when you create a version using \"Save & Run All\" \n",
    "# You can also write temporary files to /kaggle/temp/, but they won't be saved outside of the current session"
   ]
  },
  {
   "cell_type": "code",
   "execution_count": 2,
   "metadata": {
    "_cell_guid": "79c7e3d0-c299-4dcb-8224-4455121ee9b0",
    "_uuid": "d629ff2d2480ee46fbb7e2d37f6b5fab8052498a",
    "execution": {
     "iopub.execute_input": "2020-09-29T18:34:55.724398Z",
     "iopub.status.busy": "2020-09-29T18:34:55.723786Z",
     "iopub.status.idle": "2020-09-29T18:34:55.751514Z",
     "shell.execute_reply": "2020-09-29T18:34:55.751000Z"
    },
    "papermill": {
     "duration": 0.044211,
     "end_time": "2020-09-29T18:34:55.751631",
     "exception": false,
     "start_time": "2020-09-29T18:34:55.707420",
     "status": "completed"
    },
    "tags": []
   },
   "outputs": [
    {
     "data": {
      "text/html": [
       "<div>\n",
       "<style scoped>\n",
       "    .dataframe tbody tr th:only-of-type {\n",
       "        vertical-align: middle;\n",
       "    }\n",
       "\n",
       "    .dataframe tbody tr th {\n",
       "        vertical-align: top;\n",
       "    }\n",
       "\n",
       "    .dataframe thead th {\n",
       "        text-align: right;\n",
       "    }\n",
       "</style>\n",
       "<table border=\"1\" class=\"dataframe\">\n",
       "  <thead>\n",
       "    <tr style=\"text-align: right;\">\n",
       "      <th></th>\n",
       "      <th>User ID</th>\n",
       "      <th>Gender</th>\n",
       "      <th>Age</th>\n",
       "      <th>EstimatedSalary</th>\n",
       "      <th>Purchased</th>\n",
       "    </tr>\n",
       "  </thead>\n",
       "  <tbody>\n",
       "    <tr>\n",
       "      <th>0</th>\n",
       "      <td>15624510</td>\n",
       "      <td>Male</td>\n",
       "      <td>19</td>\n",
       "      <td>19000</td>\n",
       "      <td>0</td>\n",
       "    </tr>\n",
       "    <tr>\n",
       "      <th>1</th>\n",
       "      <td>15810944</td>\n",
       "      <td>Male</td>\n",
       "      <td>35</td>\n",
       "      <td>20000</td>\n",
       "      <td>0</td>\n",
       "    </tr>\n",
       "    <tr>\n",
       "      <th>2</th>\n",
       "      <td>15668575</td>\n",
       "      <td>Female</td>\n",
       "      <td>26</td>\n",
       "      <td>43000</td>\n",
       "      <td>0</td>\n",
       "    </tr>\n",
       "    <tr>\n",
       "      <th>3</th>\n",
       "      <td>15603246</td>\n",
       "      <td>Female</td>\n",
       "      <td>27</td>\n",
       "      <td>57000</td>\n",
       "      <td>0</td>\n",
       "    </tr>\n",
       "    <tr>\n",
       "      <th>4</th>\n",
       "      <td>15804002</td>\n",
       "      <td>Male</td>\n",
       "      <td>19</td>\n",
       "      <td>76000</td>\n",
       "      <td>0</td>\n",
       "    </tr>\n",
       "  </tbody>\n",
       "</table>\n",
       "</div>"
      ],
      "text/plain": [
       "    User ID  Gender  Age  EstimatedSalary  Purchased\n",
       "0  15624510    Male   19            19000          0\n",
       "1  15810944    Male   35            20000          0\n",
       "2  15668575  Female   26            43000          0\n",
       "3  15603246  Female   27            57000          0\n",
       "4  15804002    Male   19            76000          0"
      ]
     },
     "execution_count": 2,
     "metadata": {},
     "output_type": "execute_result"
    }
   ],
   "source": [
    "import numpy as np\n",
    "import pandas as pd\n",
    "import matplotlib.pyplot as plt\n",
    "\n",
    "dataset = pd.read_csv('../input/social-network-ads/Social_Network_Ads.csv') #adding data\n",
    "#print 1st 5 rows\n",
    "dataset.head()"
   ]
  },
  {
   "cell_type": "code",
   "execution_count": 3,
   "metadata": {
    "execution": {
     "iopub.execute_input": "2020-09-29T18:34:55.781990Z",
     "iopub.status.busy": "2020-09-29T18:34:55.781353Z",
     "iopub.status.idle": "2020-09-29T18:34:55.785210Z",
     "shell.execute_reply": "2020-09-29T18:34:55.784638Z"
    },
    "papermill": {
     "duration": 0.023733,
     "end_time": "2020-09-29T18:34:55.785320",
     "exception": false,
     "start_time": "2020-09-29T18:34:55.761587",
     "status": "completed"
    },
    "tags": []
   },
   "outputs": [
    {
     "name": "stdout",
     "output_type": "stream",
     "text": [
      "[[   19 19000]\n",
      " [   35 20000]\n",
      " [   26 43000]\n",
      " [   27 57000]\n",
      " [   19 76000]]\n",
      "[0 0 0 0 0]\n"
     ]
    }
   ],
   "source": [
    "#tjis data is albeled data\n",
    "#independent variable (X) will be Age, Estimated Salary\n",
    "#dependent variable(y) will be Purcahsed (It will be lable)\n",
    "\n",
    "#define X,y\n",
    "X = dataset.iloc[:, [2, 3]].values\n",
    "y = dataset.iloc[:, 4].values\n",
    "\n",
    "#print X,y\n",
    "print(X[:5, :])\n",
    "print(y[:5])"
   ]
  },
  {
   "cell_type": "code",
   "execution_count": 4,
   "metadata": {
    "execution": {
     "iopub.execute_input": "2020-09-29T18:34:55.812734Z",
     "iopub.status.busy": "2020-09-29T18:34:55.811989Z",
     "iopub.status.idle": "2020-09-29T18:34:57.012935Z",
     "shell.execute_reply": "2020-09-29T18:34:57.012417Z"
    },
    "papermill": {
     "duration": 1.217607,
     "end_time": "2020-09-29T18:34:57.013060",
     "exception": false,
     "start_time": "2020-09-29T18:34:55.795453",
     "status": "completed"
    },
    "tags": []
   },
   "outputs": [
    {
     "name": "stdout",
     "output_type": "stream",
     "text": [
      "[[    44  39000]\n",
      " [    32 120000]\n",
      " [    38  50000]\n",
      " [    32 135000]\n",
      " [    52  21000]] \n",
      " [0 1 0 1 1] \n",
      " [[   30 87000]\n",
      " [   38 50000]\n",
      " [   35 75000]\n",
      " [   30 79000]\n",
      " [   35 50000]] \n",
      " [0 0 0 0 0]\n"
     ]
    }
   ],
   "source": [
    "#import train_test_split from sklearn to train and test our data\n",
    "from sklearn.model_selection import train_test_split \n",
    "#define \n",
    "X_train, X_test, y_train, y_test = train_test_split(X, y, test_size = 0.25, random_state = 0)\n",
    "\n",
    "#print\n",
    "print(X_train[:5],'\\n', y_train[:5],'\\n', X_test[:5],'\\n', y_test[:5])"
   ]
  },
  {
   "cell_type": "code",
   "execution_count": 5,
   "metadata": {
    "execution": {
     "iopub.execute_input": "2020-09-29T18:34:57.049157Z",
     "iopub.status.busy": "2020-09-29T18:34:57.042428Z",
     "iopub.status.idle": "2020-09-29T18:34:57.056691Z",
     "shell.execute_reply": "2020-09-29T18:34:57.056209Z"
    },
    "papermill": {
     "duration": 0.03202,
     "end_time": "2020-09-29T18:34:57.056806",
     "exception": false,
     "start_time": "2020-09-29T18:34:57.024786",
     "status": "completed"
    },
    "tags": []
   },
   "outputs": [
    {
     "data": {
      "text/html": [
       "<div>\n",
       "<style scoped>\n",
       "    .dataframe tbody tr th:only-of-type {\n",
       "        vertical-align: middle;\n",
       "    }\n",
       "\n",
       "    .dataframe tbody tr th {\n",
       "        vertical-align: top;\n",
       "    }\n",
       "\n",
       "    .dataframe thead th {\n",
       "        text-align: right;\n",
       "    }\n",
       "</style>\n",
       "<table border=\"1\" class=\"dataframe\">\n",
       "  <thead>\n",
       "    <tr style=\"text-align: right;\">\n",
       "      <th></th>\n",
       "      <th>User ID</th>\n",
       "      <th>Age</th>\n",
       "      <th>EstimatedSalary</th>\n",
       "      <th>Purchased</th>\n",
       "    </tr>\n",
       "  </thead>\n",
       "  <tbody>\n",
       "    <tr>\n",
       "      <th>User ID</th>\n",
       "      <td>1.000000</td>\n",
       "      <td>-0.000721</td>\n",
       "      <td>0.071097</td>\n",
       "      <td>0.007120</td>\n",
       "    </tr>\n",
       "    <tr>\n",
       "      <th>Age</th>\n",
       "      <td>-0.000721</td>\n",
       "      <td>1.000000</td>\n",
       "      <td>0.155238</td>\n",
       "      <td>0.622454</td>\n",
       "    </tr>\n",
       "    <tr>\n",
       "      <th>EstimatedSalary</th>\n",
       "      <td>0.071097</td>\n",
       "      <td>0.155238</td>\n",
       "      <td>1.000000</td>\n",
       "      <td>0.362083</td>\n",
       "    </tr>\n",
       "    <tr>\n",
       "      <th>Purchased</th>\n",
       "      <td>0.007120</td>\n",
       "      <td>0.622454</td>\n",
       "      <td>0.362083</td>\n",
       "      <td>1.000000</td>\n",
       "    </tr>\n",
       "  </tbody>\n",
       "</table>\n",
       "</div>"
      ],
      "text/plain": [
       "                  User ID       Age  EstimatedSalary  Purchased\n",
       "User ID          1.000000 -0.000721         0.071097   0.007120\n",
       "Age             -0.000721  1.000000         0.155238   0.622454\n",
       "EstimatedSalary  0.071097  0.155238         1.000000   0.362083\n",
       "Purchased        0.007120  0.622454         0.362083   1.000000"
      ]
     },
     "execution_count": 5,
     "metadata": {},
     "output_type": "execute_result"
    }
   ],
   "source": [
    "#dataset.info()\n",
    "#check corelation among attributes of dataset \n",
    "dataset.corr()"
   ]
  },
  {
   "cell_type": "code",
   "execution_count": 6,
   "metadata": {
    "execution": {
     "iopub.execute_input": "2020-09-29T18:34:57.084990Z",
     "iopub.status.busy": "2020-09-29T18:34:57.084060Z",
     "iopub.status.idle": "2020-09-29T18:34:57.089184Z",
     "shell.execute_reply": "2020-09-29T18:34:57.088480Z"
    },
    "papermill": {
     "duration": 0.0213,
     "end_time": "2020-09-29T18:34:57.089313",
     "exception": false,
     "start_time": "2020-09-29T18:34:57.068013",
     "status": "completed"
    },
    "tags": []
   },
   "outputs": [],
   "source": [
    "#normalization and feature scaling\n",
    "from sklearn.preprocessing import StandardScaler\n",
    "sc_X = StandardScaler()\n",
    "X_train = sc_X.fit_transform(X_train)\n",
    "X_test = sc_X.transform(X_test)"
   ]
  },
  {
   "cell_type": "code",
   "execution_count": 7,
   "metadata": {
    "execution": {
     "iopub.execute_input": "2020-09-29T18:34:57.120166Z",
     "iopub.status.busy": "2020-09-29T18:34:57.119218Z",
     "iopub.status.idle": "2020-09-29T18:34:57.123439Z",
     "shell.execute_reply": "2020-09-29T18:34:57.122889Z"
    },
    "papermill": {
     "duration": 0.022676,
     "end_time": "2020-09-29T18:34:57.123555",
     "exception": false,
     "start_time": "2020-09-29T18:34:57.100879",
     "status": "completed"
    },
    "tags": []
   },
   "outputs": [
    {
     "name": "stdout",
     "output_type": "stream",
     "text": [
      "[[ 0.58164944 -0.88670699]\n",
      " [-0.60673761  1.46173768]\n",
      " [-0.01254409 -0.5677824 ]\n",
      " [-0.60673761  1.89663484]\n",
      " [ 1.37390747 -1.40858358]] \n",
      " \n",
      " [[-0.80480212  0.50496393]\n",
      " [-0.01254409 -0.5677824 ]\n",
      " [-0.30964085  0.1570462 ]\n",
      " [-0.80480212  0.27301877]\n",
      " [-0.30964085 -0.5677824 ]]\n"
     ]
    }
   ],
   "source": [
    "print(X_train[:5], '\\n','\\n', X_test[:5])"
   ]
  },
  {
   "cell_type": "code",
   "execution_count": 8,
   "metadata": {
    "execution": {
     "iopub.execute_input": "2020-09-29T18:34:57.152801Z",
     "iopub.status.busy": "2020-09-29T18:34:57.152107Z",
     "iopub.status.idle": "2020-09-29T18:34:57.297431Z",
     "shell.execute_reply": "2020-09-29T18:34:57.298280Z"
    },
    "papermill": {
     "duration": 0.163056,
     "end_time": "2020-09-29T18:34:57.298465",
     "exception": false,
     "start_time": "2020-09-29T18:34:57.135409",
     "status": "completed"
    },
    "tags": []
   },
   "outputs": [
    {
     "name": "stdout",
     "output_type": "stream",
     "text": [
      "[[-0.80480212  0.50496393]\n",
      " [-0.01254409 -0.5677824 ]\n",
      " [-0.30964085  0.1570462 ]\n",
      " [-0.80480212  0.27301877]\n",
      " [-0.30964085 -0.5677824 ]\n",
      " [-1.10189888 -1.43757673]\n",
      " [-0.70576986 -1.58254245]\n",
      " [-0.21060859  2.15757314]\n",
      " [-1.99318916 -0.04590581]\n",
      " [ 0.8787462  -0.77073441]] \n",
      " \n",
      " [0 0 0 0 0 0 0 1 0 1]\n"
     ]
    }
   ],
   "source": [
    "#create object of LogisticRegression class to refer as classifier\n",
    "from sklearn.linear_model import LogisticRegression\n",
    "\n",
    "classifier = LogisticRegression(random_state = 0)\n",
    "classifier.fit(X_train, y_train)\n",
    "y_pred = classifier.predict(X_test)\n",
    "\n",
    "print(X_test[:10], '\\n', '\\n', y_pred[:10])"
   ]
  },
  {
   "cell_type": "code",
   "execution_count": 9,
   "metadata": {
    "execution": {
     "iopub.execute_input": "2020-09-29T18:34:57.334050Z",
     "iopub.status.busy": "2020-09-29T18:34:57.333424Z",
     "iopub.status.idle": "2020-09-29T18:34:57.337630Z",
     "shell.execute_reply": "2020-09-29T18:34:57.336886Z"
    },
    "papermill": {
     "duration": 0.022753,
     "end_time": "2020-09-29T18:34:57.337761",
     "exception": false,
     "start_time": "2020-09-29T18:34:57.315008",
     "status": "completed"
    },
    "tags": []
   },
   "outputs": [
    {
     "name": "stdout",
     "output_type": "stream",
     "text": [
      "[0 0 0 0 0 0 0 1 0 1] \n",
      " \n",
      " [0 0 0 0 0 0 0 1 0 0]\n"
     ]
    }
   ],
   "source": [
    "#Predicted yes are 8th and 10th and they are the oness with good enough positive values\n",
    "#so we van predict that as the value incerase there are more chances of ad being clicked and purchased\n",
    "#check this with y_pred to compare our assumptions\n",
    "print(y_pred[:10],'\\n','\\n',y_test[:10])"
   ]
  },
  {
   "cell_type": "code",
   "execution_count": 10,
   "metadata": {
    "execution": {
     "iopub.execute_input": "2020-09-29T18:34:57.369560Z",
     "iopub.status.busy": "2020-09-29T18:34:57.368820Z",
     "iopub.status.idle": "2020-09-29T18:34:57.372216Z",
     "shell.execute_reply": "2020-09-29T18:34:57.371581Z"
    },
    "papermill": {
     "duration": 0.02158,
     "end_time": "2020-09-29T18:34:57.372330",
     "exception": false,
     "start_time": "2020-09-29T18:34:57.350750",
     "status": "completed"
    },
    "tags": []
   },
   "outputs": [],
   "source": [
    "#probability is 9/10 i.e 90% so, good to go"
   ]
  },
  {
   "cell_type": "code",
   "execution_count": 11,
   "metadata": {
    "execution": {
     "iopub.execute_input": "2020-09-29T18:34:57.406769Z",
     "iopub.status.busy": "2020-09-29T18:34:57.405941Z",
     "iopub.status.idle": "2020-09-29T18:34:57.408916Z",
     "shell.execute_reply": "2020-09-29T18:34:57.409447Z"
    },
    "papermill": {
     "duration": 0.024528,
     "end_time": "2020-09-29T18:34:57.409594",
     "exception": false,
     "start_time": "2020-09-29T18:34:57.385066",
     "status": "completed"
    },
    "tags": []
   },
   "outputs": [
    {
     "name": "stdout",
     "output_type": "stream",
     "text": [
      "[[65  3]\n",
      " [ 8 24]]\n"
     ]
    }
   ],
   "source": [
    "#we'll use a Confusion Matrix to evaluate exactly how accurate our Logistic Regression model is,\n",
    "#the more the matching values, more is the accuracy\n",
    "\n",
    "from sklearn.metrics import confusion_matrix\n",
    "matrix = confusion_matrix(y_test, y_pred)\n",
    "print(matrix)"
   ]
  },
  {
   "cell_type": "code",
   "execution_count": 12,
   "metadata": {
    "execution": {
     "iopub.execute_input": "2020-09-29T18:34:57.447180Z",
     "iopub.status.busy": "2020-09-29T18:34:57.444625Z",
     "iopub.status.idle": "2020-09-29T18:34:57.740510Z",
     "shell.execute_reply": "2020-09-29T18:34:57.739941Z"
    },
    "papermill": {
     "duration": 0.317703,
     "end_time": "2020-09-29T18:34:57.740633",
     "exception": false,
     "start_time": "2020-09-29T18:34:57.422930",
     "status": "completed"
    },
    "tags": []
   },
   "outputs": [
    {
     "data": {
      "image/png": "[encoded data removed]",
      "text/plain": [
       "<Figure size 432x288 with 1 Axes>"
      ]
     },
     "metadata": {
      "needs_background": "light"
     },
     "output_type": "display_data"
    }
   ],
   "source": [
    "#visualization of data by plotting graphs\n",
    "\n",
    "from matplotlib.colors import ListedColormap\n",
    "\n",
    "X_set, y_set = X_train, y_train\n",
    "\n",
    "X1, X2 = np.meshgrid(np.arange(start = X_set[:, 0].min() - 1, stop = X_set[:, 0].max() + 1, step = 0.01),\n",
    "                     np.arange(start = X_set[:, 1].min() - 1, stop = X_set[:, 1].max() + 1, step = 0.01))\n",
    "\n",
    "plt.contourf(X1, X2, classifier.predict(np.array([X1.ravel(), X2.ravel()]).T).reshape(X1.shape),\n",
    "             alpha = 0.6, cmap = ListedColormap(('blue', 'red')))\n",
    "\n",
    "plt.xlim(X1.min(), X1.max())\n",
    "plt.ylim(X2.min(), X2.max())\n",
    "\n",
    "for i, j in enumerate(np.unique(y_set)):\n",
    "    plt.scatter(X_set[y_set == j, 0], X_set[y_set == j, 1],\n",
    "                c = ListedColormap(('blue', 'red'))(i), label = j)\n",
    "plt.title('Training set')\n",
    "plt.xlabel('Age')\n",
    "plt.ylabel('Estimated Salary')\n",
    "plt.legend()\n",
    "plt.show()"
   ]
  },
  {
   "cell_type": "code",
   "execution_count": 13,
   "metadata": {
    "execution": {
     "iopub.execute_input": "2020-09-29T18:34:57.773353Z",
     "iopub.status.busy": "2020-09-29T18:34:57.772716Z",
     "iopub.status.idle": "2020-09-29T18:34:57.775840Z",
     "shell.execute_reply": "2020-09-29T18:34:57.775344Z"
    },
    "papermill": {
     "duration": 0.021082,
     "end_time": "2020-09-29T18:34:57.775948",
     "exception": false,
     "start_time": "2020-09-29T18:34:57.754866",
     "status": "completed"
    },
    "tags": []
   },
   "outputs": [],
   "source": [
    "#we can tell that about 80-90% of the observations have been correctly identified\n",
    "#correlations between the dependent and independent variables shows that as Age and Estimated Salary increase,\n",
    "#they will click on the ad\n",
    "#now plotting graph for test data"
   ]
  },
  {
   "cell_type": "code",
   "execution_count": 14,
   "metadata": {
    "execution": {
     "iopub.execute_input": "2020-09-29T18:34:57.816880Z",
     "iopub.status.busy": "2020-09-29T18:34:57.816128Z",
     "iopub.status.idle": "2020-09-29T18:34:58.038944Z",
     "shell.execute_reply": "2020-09-29T18:34:58.038319Z"
    },
    "papermill": {
     "duration": 0.248887,
     "end_time": "2020-09-29T18:34:58.039054",
     "exception": false,
     "start_time": "2020-09-29T18:34:57.790167",
     "status": "completed"
    },
    "tags": []
   },
   "outputs": [
    {
     "data": {
      "image/png": "[encoded data removed]",
      "text/plain": [
       "<Figure size 432x288 with 1 Axes>"
      ]
     },
     "metadata": {
      "needs_background": "light"
     },
     "output_type": "display_data"
    }
   ],
   "source": [
    "# Visualizing the Test set results\n",
    "from matplotlib.colors import ListedColormap\n",
    "\n",
    "X_set, y_set = X_test, y_test\n",
    "\n",
    "X1, X2 = np.meshgrid(np.arange(start = X_set[:, 0].min() - 1, stop = X_set[:, 0].max() + 1, step = 0.01),\n",
    "                     np.arange(start = X_set[:, 1].min() - 1, stop = X_set[:, 1].max() + 1, step = 0.01))\n",
    "plt.contourf(X1, X2, classifier.predict(np.array([X1.ravel(), X2.ravel()]).T).reshape(X1.shape),\n",
    "             alpha = 0.6, cmap = ListedColormap(('blue', 'red')))\n",
    "\n",
    "plt.xlim(X1.min(), X1.max())\n",
    "plt.ylim(X2.min(), X2.max())\n",
    "\n",
    "for i, j in enumerate(np.unique(y_set)):\n",
    "    plt.scatter(X_set[y_set == j, 0], X_set[y_set == j, 1],\n",
    "                c = ListedColormap(('blue', 'red'))(i), label = j)\n",
    "plt.title('Test set')\n",
    "plt.xlabel('Age')\n",
    "plt.ylabel('Estimated Salary')\n",
    "plt.legend()\n",
    "plt.show()"
   ]
  },
  {
   "cell_type": "code",
   "execution_count": 15,
   "metadata": {
    "execution": {
     "iopub.execute_input": "2020-09-29T18:34:58.074212Z",
     "iopub.status.busy": "2020-09-29T18:34:58.073315Z",
     "iopub.status.idle": "2020-09-29T18:34:58.076791Z",
     "shell.execute_reply": "2020-09-29T18:34:58.076316Z"
    },
    "papermill": {
     "duration": 0.022837,
     "end_time": "2020-09-29T18:34:58.076903",
     "exception": false,
     "start_time": "2020-09-29T18:34:58.054066",
     "status": "completed"
    },
    "tags": []
   },
   "outputs": [],
   "source": [
    "#coclusion : increase in both Age and Estimated Salary will lead to a higher probability of clicking(purchasing) the advertisement"
   ]
  }
 ],
 "metadata": {
  "kernelspec": {
   "display_name": "Python 3",
   "language": "python",
   "name": "python3"
  },
  "language_info": {
   "codemirror_mode": {
    "name": "ipython",
    "version": 3
   },
   "file_extension": ".py",
   "mimetype": "text/x-python",
   "name": "python",
   "nbconvert_exporter": "python",
   "pygments_lexer": "ipython3",
   "version": "3.7.6"
  },
  "papermill": {
   "duration": 7.389056,
   "end_time": "2020-09-29T18:34:58.199765",
   "environment_variables": {},
   "exception": null,
   "input_path": "__notebook__.ipynb",
   "output_path": "__notebook__.ipynb",
   "parameters": {},
   "start_time": "2020-09-29T18:34:50.810709",
   "version": "2.1.0"
  }
 },
 "nbformat": 4,
 "nbformat_minor": 4
}
